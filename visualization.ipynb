{
 "cells": [
  {
   "cell_type": "code",
   "execution_count": null,
   "id": "d1d6b0b6",
   "metadata": {},
   "outputs": [],
   "source": [
    "import pandas as pd\n",
    "import matplotlib.pyplot as plt\n",
    "import numpy as np\n",
    "plt.rcParams['font.sans-serif'] = [u'Songti SC']\n",
    "plt.rcParams['axes.unicode_minus'] = False"
   ]
  },
  {
   "cell_type": "code",
   "execution_count": null,
   "id": "84727307",
   "metadata": {},
   "outputs": [],
   "source": [
    "# Import Data Set\n",
    "df = pd.DataFrame()\n",
    "report = pd.read_excel(\"data/周报.xlsx\", sheet_name=\"周报\")"
   ]
  },
  {
   "cell_type": "code",
   "execution_count": null,
   "id": "8eeff777",
   "metadata": {},
   "outputs": [],
   "source": [
    "# Show Data Set\n",
    "report"
   ]
  },
  {
   "cell_type": "code",
   "execution_count": null,
   "id": "57e68bc0",
   "metadata": {
    "scrolled": true
   },
   "outputs": [],
   "source": [
    "# Group By Presales\n",
    "all_presales = report.groupby([u'发起人'])[u'耗时'].sum().sort_values(ascending=True)\n",
    "all_presales.index.name=None\n",
    "all_presales.plot(kind='barh',figsize=(10,10),fontsize='15')"
   ]
  },
  {
   "cell_type": "code",
   "execution_count": null,
   "id": "c8988a81",
   "metadata": {},
   "outputs": [],
   "source": [
    "# Group By Tasks\n",
    "all_tasks = report.groupby(u'中类')[u'耗时'].sum().sort_values(ascending=True)\n",
    "all_tasks.index.name=None\n",
    "all_tasks.plot(kind='barh',figsize=(10,10),fontsize='15')"
   ]
  },
  {
   "cell_type": "code",
   "execution_count": null,
   "id": "5b66c6d4",
   "metadata": {},
   "outputs": [],
   "source": [
    "# Group By Projects\n",
    "all_projects = report.groupby(u'客户名称')[u'耗时'].sum().sort_values(ascending=True)\n",
    "all_projects.index.name=None\n",
    "all_projects.plot(kind='barh',figsize=(20,20),fontsize='15')"
   ]
  },
  {
   "cell_type": "code",
   "execution_count": null,
   "id": "cf778791",
   "metadata": {},
   "outputs": [],
   "source": [
    "# Presale By Task Report\n",
    "presale_by_task_report = pd.DataFrame(index=all_presales.index, columns=all_tasks.index)\n",
    "presale_by_task_report = presale_by_task_report.fillna(0)\n",
    "presale_by_task_report.index.name=None\n",
    "for i in all_presales.index:\n",
    "    presale_tasks = report[report.发起人 == i].groupby([u'中类'])[u'耗时'].sum()\n",
    "    for j in all_tasks.index:\n",
    "        if j in presale_tasks.index:\n",
    "            presale_by_task_report[j][i]=presale_tasks[j]  \n",
    "ax=presale_by_task_report.plot.barh(stacked=True,figsize=(80,30),fontsize='50');\n",
    "ax.legend(fontsize=35)\n",
    "for i, v in enumerate(all_presales):\n",
    "    ax.text(v, i, str(v), color='black', fontweight='bold', fontsize=45)"
   ]
  },
  {
   "cell_type": "code",
   "execution_count": null,
   "id": "c2b28dc3",
   "metadata": {},
   "outputs": [],
   "source": [
    "# Project By Task Report\n",
    "project_by_task_report = pd.DataFrame(index=all_projects.index, columns=all_tasks.index)\n",
    "project_by_task_report = project_by_task_report.fillna(0)\n",
    "project_by_task_report.index.name = None\n",
    "for i in all_projects.index:\n",
    "    project_tasks = report[report.客户名称 == i].groupby([u'中类'])[u'耗时'].sum()\n",
    "    for j in all_tasks.index:\n",
    "        if j in project_tasks.index:\n",
    "            project_by_task_report[j][i]=project_tasks[j]  \n",
    "\n",
    "ax=project_by_task_report.plot.barh(stacked=True,figsize=(80,80),fontsize='50');\n",
    "ax.legend(fontsize=35)\n",
    "for i, v in enumerate(all_projects):\n",
    "    ax.text(v, i, str(v), color='black', fontweight='bold', fontsize=45)"
   ]
  },
  {
   "cell_type": "code",
   "execution_count": null,
   "id": "5a4db657",
   "metadata": {},
   "outputs": [],
   "source": [
    "# Project By Presale Report\n",
    "project_by_presale_report = pd.DataFrame(index=all_projects.index, columns=all_presales.index)\n",
    "project_by_presale_report = project_by_presale_report.fillna(0)\n",
    "project_by_presale_report.index.name = None\n",
    "for i in all_projects.index:\n",
    "    project_tasks = report[report.客户名称 == i].groupby([u'发起人'])[u'耗时'].sum()\n",
    "    for j in all_presales.index:\n",
    "        if j in project_tasks.index:\n",
    "            project_by_presale_report[j][i]=project_tasks[j]  \n",
    "\n",
    "ax=project_by_presale_report.plot.barh(stacked=True,figsize=(80,80),fontsize='50');\n",
    "ax.legend(fontsize=35)\n",
    "for i, v in enumerate(all_projects):\n",
    "    ax.text(v, i, str(v), color='black', fontweight='bold', fontsize=45)"
   ]
  },
  {
   "cell_type": "code",
   "execution_count": null,
   "id": "b0e6ea45",
   "metadata": {},
   "outputs": [],
   "source": [
    "# Project vs. Presales by Week Report\n",
    "report.groupby([u'周'])[u'发起人'].apply(lambda x:set(x))\n",
    "presales_count=report.groupby([u'周'])[u'发起人'].apply(lambda x:len(set(x)))\n",
    "report.groupby([u'周'])[u'客户名称'].apply(lambda x:set(x))\n",
    "projects_count=report.groupby([u'周'])[u'客户名称'].apply(lambda x:len(set(x)))\n",
    "presale_vs_project_by_week_report = pd.DataFrame(index=presales_count.index, columns=['售前人数', '项目个数', '人均支持项目数'])\n",
    "presale_vs_project_by_week_report = presale_vs_project_by_week_report.fillna(0)\n",
    "presale_vs_project_by_week_report.index.name=None\n",
    "presale_vs_project_by_week_report[u'售前人数']=presales_count\n",
    "presale_vs_project_by_week_report[u'项目个数']=projects_count\n",
    "presale_vs_project_by_week_report[u'人均支持项目数']=np.around(presale_vs_project_by_week_report[u'项目个数']/presale_vs_project_by_week_report[u'售前人数'], decimals=1)\n",
    "presale_vs_project_by_week_report.plot(kind='barh')"
   ]
  }
 ],
 "metadata": {
  "kernelspec": {
   "display_name": "Python 3",
   "language": "python",
   "name": "python3"
  },
  "language_info": {
   "codemirror_mode": {
    "name": "ipython",
    "version": 3
   },
   "file_extension": ".py",
   "mimetype": "text/x-python",
   "name": "python",
   "nbconvert_exporter": "python",
   "pygments_lexer": "ipython3",
   "version": "3.9.5"
  }
 },
 "nbformat": 4,
 "nbformat_minor": 5
}
