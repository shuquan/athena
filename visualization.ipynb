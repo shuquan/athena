{
 "cells": [
  {
   "cell_type": "code",
   "execution_count": null,
   "id": "d1d6b0b6",
   "metadata": {},
   "outputs": [],
   "source": [
    "import pandas as pd\n",
    "import matplotlib.pyplot as plt\n",
    "import numpy as np\n",
    "plt.rcParams['font.sans-serif'] = [u'Songti SC']\n",
    "plt.rcParams['axes.unicode_minus'] = False"
   ]
  },
  {
   "cell_type": "code",
   "execution_count": null,
   "id": "84727307",
   "metadata": {},
   "outputs": [],
   "source": [
    "# Import Data Set\n",
    "df = pd.DataFrame()\n",
    "report = pd.read_excel(\"data/周报汇总2021H2.xlsx\", sheet_name=\"周报\")"
   ]
  },
  {
   "cell_type": "code",
   "execution_count": null,
   "id": "0c9b0335",
   "metadata": {},
   "outputs": [],
   "source": [
    "# Drop 99cloud from project\n",
    "# report = report.drop(report[report[u'项目名称']=='99Cloud'].index)"
   ]
  },
  {
   "cell_type": "code",
   "execution_count": null,
   "id": "8eeff777",
   "metadata": {},
   "outputs": [],
   "source": [
    "# Show Data Set\n",
    "report"
   ]
  },
  {
   "cell_type": "code",
   "execution_count": null,
   "id": "3f9900f6",
   "metadata": {},
   "outputs": [],
   "source": [
    "# Group by Weeks\n",
    "all_weeks = report.groupby([u'周'])[u'耗时'].sum()\n",
    "all_weeks.index.name = None\n",
    "all_weeks.plot(kind='pie')"
   ]
  },
  {
   "cell_type": "code",
   "execution_count": null,
   "id": "57e68bc0",
   "metadata": {
    "scrolled": true
   },
   "outputs": [],
   "source": [
    "# Group By Presales\n",
    "all_presales = report.groupby([u'发起人'])[u'耗时'].sum().sort_values(ascending=True)\n",
    "all_presales.index.name = None\n",
    "all_presales.plot(kind='barh')"
   ]
  },
  {
   "cell_type": "code",
   "execution_count": null,
   "id": "c0c0b46e",
   "metadata": {},
   "outputs": [],
   "source": [
    "# Group By Sales\n",
    "all_sales = report.groupby([u'销售人员'])[u'耗时'].sum().sort_values(ascending=True)\n",
    "all_sales.index.name = None\n",
    "all_sales.plot(kind='barh',figsize=(20,20),fontsize='15')"
   ]
  },
  {
   "cell_type": "code",
   "execution_count": null,
   "id": "c8988a81",
   "metadata": {
    "scrolled": false
   },
   "outputs": [],
   "source": [
    "# Group By Tasks\n",
    "all_tasks = report.groupby(u'中类')[u'耗时'].sum().sort_values(ascending=True)\n",
    "all_tasks.index.name = None\n",
    "all_tasks.plot(kind='pie')"
   ]
  },
  {
   "cell_type": "code",
   "execution_count": null,
   "id": "5b66c6d4",
   "metadata": {},
   "outputs": [],
   "source": [
    "# Group By Projects\n",
    "all_projects = report.groupby(u'项目名称')[u'耗时'].sum().sort_values(ascending=True)\n",
    "all_projects.index.name = None\n",
    "all_projects.plot(kind='pie',figsize=(20,20),fontsize='15')"
   ]
  },
  {
   "cell_type": "code",
   "execution_count": null,
   "id": "048a54e4",
   "metadata": {},
   "outputs": [],
   "source": [
    "# All POC Data\n",
    "all_pocs = pd.read_excel(\"data/周报汇总2021H2.xlsx\", sheet_name=\"POC\")"
   ]
  },
  {
   "cell_type": "code",
   "execution_count": null,
   "id": "85f30e4c",
   "metadata": {},
   "outputs": [],
   "source": [
    "# All Contract Data\n",
    "all_contracts = pd.read_excel(\"data/周报汇总2021H2.xlsx\", sheet_name=\"合同\")"
   ]
  },
  {
   "cell_type": "code",
   "execution_count": null,
   "id": "c1eac081",
   "metadata": {},
   "outputs": [],
   "source": [
    "# All Prediction Data\n",
    "all_prediction = pd.read_excel(\"data/周报汇总2021H2.xlsx\", sheet_name=\"预测\")"
   ]
  },
  {
   "cell_type": "code",
   "execution_count": null,
   "id": "020212be",
   "metadata": {},
   "outputs": [],
   "source": [
    "# All Income Data\n",
    "all_income = pd.read_excel(\"data/周报汇总2021H2.xlsx\", sheet_name=\"收入\")"
   ]
  },
  {
   "cell_type": "code",
   "execution_count": null,
   "id": "50d2abff",
   "metadata": {},
   "outputs": [],
   "source": [
    "# Project Based Data"
   ]
  },
  {
   "cell_type": "code",
   "execution_count": null,
   "id": "cf778791",
   "metadata": {},
   "outputs": [],
   "source": [
    "# Project By Presale Number Report\n",
    "project_by_presale_num_detail_report = report.groupby([u'项目名称'])[u'发起人'].apply(lambda x:set(x))\n",
    "project_by_presale_num_report = report.groupby([u'项目名称'])[u'发起人'].apply(lambda x:len(set(x))).sort_values(ascending=True)\n",
    "project_by_presale_num_report.index.name = None\n",
    "project_by_presale_num_report.plot(kind='barh',figsize=(20,20),fontsize='15')"
   ]
  },
  {
   "cell_type": "code",
   "execution_count": null,
   "id": "1d247065",
   "metadata": {},
   "outputs": [],
   "source": [
    "# Project By Presale Report\n",
    "project_by_presale_report = pd.DataFrame(index=all_projects.index, columns=all_presales.index)\n",
    "project_by_presale_report = project_by_presale_report.fillna(0)\n",
    "project_by_presale_report.index.name = None\n",
    "for i in all_projects.index:\n",
    "    project_presale = report[report.项目名称 == i].groupby([u'发起人'])[u'耗时'].sum()\n",
    "    for j in all_presales.index:\n",
    "        if j in project_presale.index:\n",
    "            project_by_presale_report[j][i]=project_presale[j]  \n",
    "\n",
    "ax=project_by_presale_report.plot.barh(stacked=True,figsize=(80,80),fontsize='50');\n",
    "ax.legend(fontsize=35)\n",
    "for i, v in enumerate(all_projects):\n",
    "    ax.text(v, i, str(v), color='black', fontweight='bold', fontsize=45)"
   ]
  },
  {
   "cell_type": "code",
   "execution_count": null,
   "id": "c2b28dc3",
   "metadata": {},
   "outputs": [],
   "source": [
    "# Project By Task Report\n",
    "project_by_task_report = pd.DataFrame(index=all_projects.index, columns=all_tasks.index)\n",
    "project_by_task_report = project_by_task_report.fillna(0)\n",
    "project_by_task_report.index.name = None\n",
    "for i in all_projects.index:\n",
    "    project_tasks = report[report.项目名称 == i].groupby([u'中类'])[u'耗时'].sum()\n",
    "    for j in all_tasks.index:\n",
    "        if j in project_tasks.index:\n",
    "            project_by_task_report[j][i]=project_tasks[j]  \n",
    "\n",
    "ax=project_by_task_report.plot.barh(stacked=True,figsize=(80,80),fontsize='50');\n",
    "ax.legend(fontsize=35)\n",
    "for i, v in enumerate(all_projects):\n",
    "    ax.text(v, i, str(v), color='black', fontweight='bold', fontsize=45)"
   ]
  },
  {
   "cell_type": "code",
   "execution_count": null,
   "id": "8cb1cf4a",
   "metadata": {},
   "outputs": [],
   "source": [
    "# Presale Based Data"
   ]
  },
  {
   "cell_type": "code",
   "execution_count": null,
   "id": "397d5231",
   "metadata": {},
   "outputs": [],
   "source": [
    "# Presale By Project Number Report\n",
    "presale_by_project_num_detail_report = report.groupby([u'发起人'])[u'项目名称'].apply(lambda x:set(x))\n",
    "presale_by_project_num_report = report.groupby([u'发起人'])[u'项目名称'].apply(lambda x:len(set(x))).sort_values(ascending=True)\n",
    "presale_by_project_num_report.index.name = None\n",
    "presale_by_project_num_report.plot(kind='barh')"
   ]
  },
  {
   "cell_type": "code",
   "execution_count": null,
   "id": "046a3f59",
   "metadata": {},
   "outputs": [],
   "source": [
    "# Presale By Project Report\n",
    "presale_by_project_report = pd.DataFrame(index=all_presales.index, columns=all_projects.index)\n",
    "presale_by_project_report = presale_by_project_report.fillna(0)\n",
    "presale_by_project_report.index.name = None\n",
    "for i in all_presales.index:\n",
    "    presale_projects = report[report.发起人 == i].groupby([u'项目名称'])[u'耗时'].sum()\n",
    "    for j in all_projects.index:\n",
    "        if j in presale_projects.index:\n",
    "            presale_by_project_report[j][i]=presale_projects[j]  \n",
    "ax=presale_by_project_report.plot.barh(stacked=True,figsize=(80,30),fontsize='50');\n",
    "ax.legend(fontsize=35)\n",
    "for i, v in enumerate(all_presales):\n",
    "    ax.text(v, i, str(v), color='black', fontweight='bold', fontsize=45)"
   ]
  },
  {
   "cell_type": "code",
   "execution_count": null,
   "id": "574b9358",
   "metadata": {},
   "outputs": [],
   "source": [
    "# Presale By Task Report\n",
    "presale_by_task_report = pd.DataFrame(index=all_presales.index, columns=all_tasks.index)\n",
    "presale_by_task_report = presale_by_task_report.fillna(0)\n",
    "presale_by_task_report.index.name = None\n",
    "for i in all_presales.index:\n",
    "    presale_tasks = report[report.发起人 == i].groupby([u'中类'])[u'耗时'].sum()\n",
    "    for j in all_tasks.index:\n",
    "        if j in presale_tasks.index:\n",
    "            presale_by_task_report[j][i]=presale_tasks[j]  \n",
    "ax=presale_by_task_report.plot.barh(stacked=True,figsize=(80,30),fontsize='50');\n",
    "ax.legend(fontsize=35)\n",
    "for i, v in enumerate(all_presales):\n",
    "    ax.text(v, i, str(v), color='black', fontweight='bold', fontsize=45)"
   ]
  },
  {
   "cell_type": "code",
   "execution_count": null,
   "id": "39f42eac",
   "metadata": {},
   "outputs": [],
   "source": [
    "# Sale Based Data"
   ]
  },
  {
   "cell_type": "code",
   "execution_count": null,
   "id": "306a9f7a",
   "metadata": {},
   "outputs": [],
   "source": [
    "# Sale By Project Number Report\n",
    "sale_by_project_num_detail_report = report.groupby([u'销售人员'])[u'项目名称'].apply(lambda x:set(x))\n",
    "sale_by_project_num_report = report.groupby([u'销售人员'])[u'项目名称'].apply(lambda x:len(set(x))).sort_values(ascending=True)\n",
    "sale_by_project_num_report.index.name = None\n",
    "sale_by_project_num_report.plot(kind='barh',figsize=(20,20),fontsize='15')"
   ]
  },
  {
   "cell_type": "code",
   "execution_count": null,
   "id": "b116f7e5",
   "metadata": {},
   "outputs": [],
   "source": [
    "# Sale By Project Report\n",
    "sale_by_project_report = pd.DataFrame(index=all_sales.index, columns=all_projects.index)\n",
    "sale_by_project_report = sale_by_project_report.fillna(0)\n",
    "sale_by_project_report.index.name = None\n",
    "for i in all_sales.index:\n",
    "    sale_projects = report[report.销售人员 == i].groupby([u'项目名称'])[u'耗时'].sum()\n",
    "    for j in all_projects.index:\n",
    "        if j in sale_projects.index:\n",
    "            sale_by_project_report[j][i]=sale_projects[j]  \n",
    "ax=sale_by_project_report.plot.barh(stacked=True,figsize=(80,30),fontsize='50');\n",
    "ax.legend(fontsize=35)\n",
    "for i, v in enumerate(all_sales):\n",
    "    ax.text(v, i, str(v), color='black', fontweight='bold', fontsize=45)"
   ]
  },
  {
   "cell_type": "code",
   "execution_count": null,
   "id": "8de798e2",
   "metadata": {},
   "outputs": [],
   "source": [
    "# Sale By Task Report\n",
    "sale_by_task_report = pd.DataFrame(index=all_sales.index, columns=all_tasks.index)\n",
    "sale_by_task_report = sale_by_task_report.fillna(0)\n",
    "sale_by_task_report.index.name = None\n",
    "for i in all_sales.index:\n",
    "    sale_tasks = report[report.销售人员 == i].groupby([u'中类'])[u'耗时'].sum()\n",
    "    for j in all_tasks.index:\n",
    "        if j in sale_tasks.index:\n",
    "            sale_by_task_report[j][i]=sale_tasks[j]  \n",
    "ax=sale_by_task_report.plot.barh(stacked=True,figsize=(80,30),fontsize='50');\n",
    "ax.legend(fontsize=35)\n",
    "for i, v in enumerate(all_sales):\n",
    "    ax.text(v, i, str(v), color='black', fontweight='bold', fontsize=45)"
   ]
  },
  {
   "cell_type": "code",
   "execution_count": null,
   "id": "3e9cf4c9",
   "metadata": {},
   "outputs": [],
   "source": [
    "# Sale By Presale Report\n",
    "sale_by_presale_report = pd.DataFrame(index=all_sales.index, columns=all_presales.index)\n",
    "sale_by_presale_report = sale_by_presale_report.fillna(0)\n",
    "sale_by_presale_report.index.name = None\n",
    "for i in all_sales.index:\n",
    "    sale_presale = report[report.销售人员 == i].groupby([u'发起人'])[u'耗时'].sum()\n",
    "    for j in all_presales.index:\n",
    "        if j in sale_presale.index:\n",
    "            sale_by_presale_report[j][i] = sale_presale[j]  \n",
    "\n",
    "ax=sale_by_presale_report.plot.barh(stacked=True,figsize=(80,80),fontsize='50');\n",
    "ax.legend(fontsize=35)\n",
    "for i, v in enumerate(all_sales):\n",
    "    ax.text(v, i, str(v), color='black', fontweight='bold', fontsize=45)"
   ]
  },
  {
   "cell_type": "code",
   "execution_count": null,
   "id": "b0e6ea45",
   "metadata": {},
   "outputs": [],
   "source": [
    "# Project vs. Presales by Week Report\n",
    "report.groupby([u'周'])[u'发起人'].apply(lambda x:set(x))\n",
    "presales_count=report.groupby([u'周'])[u'发起人'].apply(lambda x:len(set(x)))\n",
    "report.groupby([u'周'])[u'项目名称'].apply(lambda x:set(x))\n",
    "projects_count=report.groupby([u'周'])[u'项目名称'].apply(lambda x:len(set(x)))\n",
    "presale_vs_project_by_week_report = pd.DataFrame(index=presales_count.index, columns=['售前人数', '项目个数', '人均支持项目数'])\n",
    "presale_vs_project_by_week_report = presale_vs_project_by_week_report.fillna(0)\n",
    "presale_vs_project_by_week_report.index.name=None\n",
    "presale_vs_project_by_week_report[u'售前人数']=presales_count\n",
    "presale_vs_project_by_week_report[u'项目个数']=projects_count\n",
    "presale_vs_project_by_week_report[u'人均支持项目数']=np.around(presale_vs_project_by_week_report[u'项目个数']/presale_vs_project_by_week_report[u'售前人数'], decimals=1)\n",
    "presale_vs_project_by_week_report.plot(kind='barh')"
   ]
  },
  {
   "cell_type": "code",
   "execution_count": null,
   "id": "c607cd60",
   "metadata": {},
   "outputs": [],
   "source": [
    "# 计算入离职情况\n",
    "presales_detail_by_week = pd.DataFrame(index=all_weeks.index, columns=['已交','应交','缺交'])\n",
    "presales_detail_by_week.index.name = '周'\n",
    "presales_detail_by_week['已交'] = report.groupby([u'周'])[u'发起人'].apply(lambda x:set(x))\n",
    "\n",
    "presale_change_log = pd.read_excel(\"data/周报汇总2021H2.xlsx\", sheet_name=\"入离职\")\n",
    "prestail_detail_baseline = eval(presale_change_log[presale_change_log['状态'] == '在职']['售前'].values[0])\n",
    "\n",
    "l = []\n",
    "for index, row in presale_change_log.iterrows():\n",
    "    if row['状态'] == '在职':\n",
    "        l.append(prestail_detail_baseline)\n",
    "        continue\n",
    "    \n",
    "    s = set()\n",
    "    s.add(row['售前'])\n",
    "    if row['状态'] == '离职':\n",
    "        prestail_detail_baseline = prestail_detail_baseline - s\n",
    "    else:\n",
    "        prestail_detail_baseline = prestail_detail_baseline | s\n",
    "    \n",
    "    l.append(prestail_detail_baseline)\n",
    "    \n",
    "presale_change_log['详情'] = l"
   ]
  },
  {
   "cell_type": "code",
   "execution_count": null,
   "id": "d270d7b5",
   "metadata": {},
   "outputs": [],
   "source": [
    "# Show Data Set\n",
    "presale_change_log"
   ]
  },
  {
   "cell_type": "code",
   "execution_count": null,
   "id": "87c32e38",
   "metadata": {},
   "outputs": [],
   "source": [
    "# 计算周报缺交情况\n",
    "presale_change_log_combined = presale_change_log.groupby([u'周'])[u'详情'].apply(lambda x:presale_change_log['详情'][max(x.index)])\n",
    "pre = 1\n",
    "for i, row in presales_detail_by_week.iterrows():\n",
    "    for j, item in presale_change_log_combined.iteritems():\n",
    "        if i >= j:\n",
    "            pre = j\n",
    "            continue\n",
    "        if i <= j:\n",
    "            break\n",
    "    row['应交'] = presale_change_log_combined[pre]\n",
    "    row['缺交'] = row['应交'] - row['已交']"
   ]
  },
  {
   "cell_type": "code",
   "execution_count": null,
   "id": "cec066f8",
   "metadata": {},
   "outputs": [],
   "source": [
    "# Show Data Set\n",
    "presales_detail_by_week"
   ]
  },
  {
   "cell_type": "code",
   "execution_count": null,
   "id": "4bb6b792",
   "metadata": {},
   "outputs": [],
   "source": [
    "# Summary Data\n",
    "start_week = all_weeks.index[0]\n",
    "end_week = all_weeks.index[-1]\n",
    "\n",
    "presale_num = len(presales_detail_by_week['应交'][end_week])\n",
    "presale_detail = ', '.join(presales_detail_by_week['应交'][end_week])\n",
    "\n",
    "presale_left = presale_change_log[presale_change_log['状态'] == '离职']['售前']\n",
    "presale_num_left = len(presale_left)\n",
    "presale_detail_left = '，'.join(presale_left)\n",
    "\n",
    "presale_new = presale_change_log[presale_change_log['状态'] == '入职']['售前']\n",
    "presale_num_new = len(presale_new)\n",
    "presale_detail_new = '，'.join(presale_new)\n",
    "\n",
    "project_num = len(all_projects)\n",
    "poc_num = len(all_pocs)\n",
    "ratio_poc_of_project = '{:.2%}'.format(poc_num/project_num)\n",
    "\n",
    "contract_num = len(all_contracts)\n",
    "\n",
    "s = f'截止2021年{end_week}周，售前团队共{presale_num}人（{presale_detail}），\\\n",
    "离职{presale_num_left}人（{presale_detail_left}），\\\n",
    "入职{presale_num_new}人（{presale_detail_new}）。\\r\\n\\\n",
    "\\r\\n从2021年第{start_week}周至第{end_week}周，跟进项目数{project_num}个，\\\n",
    "其中POC数量{poc_num}个（{poc_num}/{project_num}={ratio_poc_of_project}）。\\r\\n\\\n",
    "\\r\\n共签署{contract_num}个合同'\n",
    "\n",
    "print(s)"
   ]
  },
  {
   "cell_type": "code",
   "execution_count": null,
   "id": "150f0013",
   "metadata": {},
   "outputs": [],
   "source": [
    "x = report.groupby([u'项目名称'])[u'发起人'].apply(lambda x:len(set(x)))\n",
    "y = report.groupby([u'项目名称'])[u'耗时'].sum()\n",
    "projects_scatter_report = pd.DataFrame(index=x.index, columns=['参与人数', '耗时'])\n",
    "projects_scatter_report['参与人数'] = x\n",
    "projects_scatter_report['耗时'] = y\n",
    "projects_scatter_report = projects_scatter_report.drop(['99Cloud'])\n",
    "projects_scatter_report.plot(kind=\"scatter\",x=\"参与人数\",y=\"耗时\")"
   ]
  },
  {
   "cell_type": "code",
   "execution_count": null,
   "id": "c11a163f",
   "metadata": {},
   "outputs": [],
   "source": [
    "# Contracts Based Data"
   ]
  },
  {
   "cell_type": "code",
   "execution_count": null,
   "id": "ba68d519",
   "metadata": {},
   "outputs": [],
   "source": [
    "# Merge contract, prediction and cost\n",
    "contracts = all_contracts[['合同编号','本季合同总金额','合同方','经手人']].dropna()\n",
    "project_with_contract = all_prediction[['合同编号','项目名称']].dropna()\n",
    "contracts_by_project = pd.merge(contracts, project_with_contract, on='合同编号', how='outer')\n",
    "project_with_cost = report.groupby(u'项目名称')[u'耗时'].sum().sort_values(ascending=True)\n",
    "result = pd.merge(contracts_by_project, project_with_cost, on='项目名称',how='left')\n",
    "contract_roi = result\n",
    "contract_roi.index = contract_roi.项目名称\n",
    "# Assume the cost is 200 per hour\n",
    "contract_roi['售前成本'] = contract_roi['耗时'] * 200\n",
    "contract_roi[['本季合同总金额', '售前成本', '耗时']].plot(kind='barh')"
   ]
  },
  {
   "cell_type": "code",
   "execution_count": null,
   "id": "6141bc04",
   "metadata": {},
   "outputs": [],
   "source": [
    "# Contracts By Week Whole Year\n",
    "contracts_from_oa = pd.read_excel(\"data/周报汇总2021H2.xlsx\", sheet_name=\"合同总表\")\n",
    "contracts_from_oa_sample = contracts_from_oa[['合同编号','合同价','单位名称','申请人','归档日期', '创建时间']]\n",
    "contracts_from_kpi = pd.merge(contracts, contracts_from_oa_sample, on='合同编号', how='left')\n",
    "contracts_from_kpi['创建时间']  = pd.to_datetime(contracts_from_kpi['创建时间'],errors='coerce')\n",
    "contracts_from_kpi['周'] = contracts_from_kpi['创建时间'].dt.isocalendar().week\n",
    "contracts_from_kpi = contracts_from_kpi.groupby('周')['本季合同总金额'].sum()\n",
    "\n",
    "contracts_by_week = pd.DataFrame(index=[i for i in range(1,53)], columns=['合同额'])\n",
    "contracts_by_week.index.name = '周'\n",
    "contracts_by_week = pd.merge(contracts_by_week, contracts_from_kpi, on='周', how='left')['本季合同总金额']\n",
    "contracts_by_week.fillna(0).cumsum().plot()"
   ]
  },
  {
   "cell_type": "code",
   "execution_count": null,
   "id": "0744b156",
   "metadata": {},
   "outputs": [],
   "source": [
    "# Contract Value vs. Presales by Week Report\n",
    "presales_count=report.groupby([u'周'])[u'发起人'].apply(lambda x:len(set(x)))\n",
    "contracts_value=contracts_by_week.fillna(0).cumsum()[presales_count.index]\n",
    "presale_vs_contracts_value_by_week_report = pd.DataFrame(index=presales_count.index, columns=['售前人数', '累计合同额', '人均累计合同额'])\n",
    "presale_vs_contracts_value_by_week_report = presale_vs_contracts_value_by_week_report.fillna(0)\n",
    "presale_vs_contracts_value_by_week_report.index.name=None\n",
    "presale_vs_contracts_value_by_week_report[u'售前人数']=presales_count\n",
    "presale_vs_contracts_value_by_week_report[u'累计合同额']=contracts_value\n",
    "presale_vs_contracts_value_by_week_report[u'人均累计合同额']=np.around(presale_vs_contracts_value_by_week_report[u'累计合同额']/presale_vs_contracts_value_by_week_report[u'售前人数'], decimals=1)\n",
    "presale_vs_contracts_value_by_week_report.plot(kind='barh')"
   ]
  },
  {
   "cell_type": "code",
   "execution_count": null,
   "id": "471d1a5a",
   "metadata": {},
   "outputs": [],
   "source": [
    "# Contract by industry\n",
    "contracts = all_contracts.groupby('行业')['合同方'].apply(lambda x:set(x))\n",
    "values = all_contracts.groupby('行业')['本季合同总金额'].sum()\n",
    "contracts_by_industry = pd.DataFrame(index=contracts.index, columns=['合同方', '总金额'])\n",
    "contracts_by_industry['合同方'] = contracts\n",
    "contracts_by_industry['总金额'] = values"
   ]
  }
 ],
 "metadata": {
  "kernelspec": {
   "display_name": "Python 3",
   "language": "python",
   "name": "python3"
  },
  "language_info": {
   "codemirror_mode": {
    "name": "ipython",
    "version": 3
   },
   "file_extension": ".py",
   "mimetype": "text/x-python",
   "name": "python",
   "nbconvert_exporter": "python",
   "pygments_lexer": "ipython3",
   "version": "3.9.5"
  }
 },
 "nbformat": 4,
 "nbformat_minor": 5
}
