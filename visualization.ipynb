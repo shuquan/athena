{
 "cells": [
  {
   "cell_type": "code",
   "execution_count": null,
   "id": "d1d6b0b6",
   "metadata": {},
   "outputs": [],
   "source": [
    "import pandas as pd\n",
    "import matplotlib.pyplot as plt\n",
    "plt.rcParams['font.sans-serif'] = [u'Songti SC']\n",
    "plt.rcParams['axes.unicode_minus'] = False"
   ]
  },
  {
   "cell_type": "code",
   "execution_count": null,
   "id": "84727307",
   "metadata": {},
   "outputs": [],
   "source": [
    "df = pd.DataFrame()\n",
    "report = pd.read_excel(\"周报.xlsx\", sheet_name=\"周报\")"
   ]
  },
  {
   "cell_type": "code",
   "execution_count": null,
   "id": "8eeff777",
   "metadata": {},
   "outputs": [],
   "source": [
    "report"
   ]
  },
  {
   "cell_type": "code",
   "execution_count": null,
   "id": "57e68bc0",
   "metadata": {
    "scrolled": true
   },
   "outputs": [],
   "source": [
    "all_presales = report.groupby([u'发起人'])[u'耗时'].sum()\n",
    "all_presales.index.name=None\n",
    "all_presales.plot(kind='barh',figsize=(10,10),fontsize='15')"
   ]
  },
  {
   "cell_type": "code",
   "execution_count": null,
   "id": "c8988a81",
   "metadata": {},
   "outputs": [],
   "source": [
    "all_tasks = report.groupby(u'中类')[u'耗时'].sum()\n",
    "all_tasks.index.name=None\n",
    "all_tasks.plot(kind='barh',figsize=(10,10),fontsize='15')"
   ]
  },
  {
   "cell_type": "code",
   "execution_count": null,
   "id": "cf778791",
   "metadata": {},
   "outputs": [],
   "source": [
    "final_report = pd.DataFrame(index=all_presales.index, columns=all_tasks.index)\n",
    "final_report=final_report.fillna(0)\n",
    "final_report.index.name=None"
   ]
  },
  {
   "cell_type": "code",
   "execution_count": null,
   "id": "004caada",
   "metadata": {},
   "outputs": [],
   "source": [
    "for i in all_presales.index:\n",
    "    presale_tasks = report[report.发起人 == i].groupby([u'中类'])[u'耗时'].sum()\n",
    "    for j in all_tasks.index:\n",
    "        if j in presale_tasks.index:\n",
    "            final_report[j][i]=presale_tasks[j]         "
   ]
  },
  {
   "cell_type": "code",
   "execution_count": null,
   "id": "6176d9e2",
   "metadata": {},
   "outputs": [],
   "source": [
    "ax=final_report.plot.barh(stacked=True,figsize=(80,30),fontsize='50');\n",
    "ax.legend(fontsize=35)\n",
    "for i, v in enumerate(all_presales):\n",
    "    ax.text(v, i, str(v), color='black', fontweight='bold', fontsize=45)"
   ]
  }
 ],
 "metadata": {
  "kernelspec": {
   "display_name": "Python 3",
   "language": "python",
   "name": "python3"
  },
  "language_info": {
   "codemirror_mode": {
    "name": "ipython",
    "version": 3
   },
   "file_extension": ".py",
   "mimetype": "text/x-python",
   "name": "python",
   "nbconvert_exporter": "python",
   "pygments_lexer": "ipython3",
   "version": "3.9.5"
  }
 },
 "nbformat": 4,
 "nbformat_minor": 5
}
